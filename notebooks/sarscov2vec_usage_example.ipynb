{
 "cells": [
  {
   "cell_type": "code",
   "execution_count": 1,
   "id": "621a0895-63a8-44d2-b58d-147bcd27c90d",
   "metadata": {},
   "outputs": [],
   "source": [
    "import fasttext\n",
    "\n",
    "import pandas as pd\n",
    "\n",
    "import joblib\n",
    "\n",
    "from tools.sarscov2vec import (\n",
    "    FastaReader,\n",
    "    KMersTransformer\n",
    ")"
   ]
  },
  {
   "cell_type": "markdown",
   "id": "b4471bb0-767d-4d69-a4b5-e5001fa6b27a",
   "metadata": {},
   "source": [
    "### Requirements\n",
    "\n",
    "This notebook requires Python 3.8+ virtual environment with packages from the `requirements.txt` file.\n",
    "\n",
    "Furthermore, you need to download NLP model and SVM classification model with label encoder before cells execution below:\n",
    "* `fasttext_unsupervised_kmer7_25k_samples.28.02.2022.bin`\n",
    "* `svm_supervised_36k_samples.28.02.2022.joblib`\n",
    "* `label_encoder_36k_samples.28.02.2022.joblib`"
   ]
  },
  {
   "cell_type": "markdown",
   "id": "248e7d86-cf09-4e81-b53c-592659dfd4a3",
   "metadata": {},
   "source": [
    "#### Load FASTA and extract nucleotide sequence (step 1)"
   ]
  },
  {
   "cell_type": "code",
   "execution_count": 2,
   "id": "f54f2b8d-3ec9-4e70-ab27-39c5f563ae80",
   "metadata": {},
   "outputs": [],
   "source": [
    "virus_sample = FastaReader(fasta_file_path='ON114122.fasta')"
   ]
  },
  {
   "cell_type": "code",
   "execution_count": 3,
   "id": "3acebea5-7f19-4b4e-b1fa-a72588213cb2",
   "metadata": {},
   "outputs": [],
   "source": [
    "virus_sequence = virus_sample.get_sequence()"
   ]
  },
  {
   "cell_type": "code",
   "execution_count": 4,
   "id": "0779768c-790c-4842-aecc-fbf68a1cafc1",
   "metadata": {},
   "outputs": [
    {
     "data": {
      "text/plain": [
       "29724"
      ]
     },
     "execution_count": 4,
     "metadata": {},
     "output_type": "execute_result"
    }
   ],
   "source": [
    "# Genome length\n",
    "len(virus_sequence)"
   ]
  },
  {
   "cell_type": "code",
   "execution_count": 5,
   "id": "bf4ecb27-0369-40f6-bdb8-a6637ee9f025",
   "metadata": {},
   "outputs": [
    {
     "data": {
      "text/plain": [
       "{'A', 'C', 'G', 'N', 'T'}"
      ]
     },
     "execution_count": 5,
     "metadata": {},
     "output_type": "execute_result"
    }
   ],
   "source": [
    "# Unique chars in genome sequence\n",
    "set(virus_sequence)"
   ]
  },
  {
   "cell_type": "code",
   "execution_count": 6,
   "id": "110d40b7-414b-49a8-8173-74916b15b49a",
   "metadata": {},
   "outputs": [
    {
     "data": {
      "text/plain": [
       "7"
      ]
     },
     "execution_count": 6,
     "metadata": {},
     "output_type": "execute_result"
    }
   ],
   "source": [
    "# How much \"N\" chars exists\n",
    "virus_sequence.count('N')"
   ]
  },
  {
   "cell_type": "markdown",
   "id": "b9c2fa6b-8336-4bde-b8e5-1c3027efcfca",
   "metadata": {},
   "source": [
    "#### Transform genome sequence to sentence with tokens (step 2)"
   ]
  },
  {
   "cell_type": "code",
   "execution_count": 7,
   "id": "74c0fad9-84ce-431e-87c0-ea23125687bd",
   "metadata": {},
   "outputs": [],
   "source": [
    "kmer_trans = KMersTransformer(size=7, sliding_window=1)"
   ]
  },
  {
   "cell_type": "code",
   "execution_count": 8,
   "id": "bbb8a3e8-1178-48b8-b45a-363c17a0eb7f",
   "metadata": {},
   "outputs": [
    {
     "data": {
      "text/html": [
       "<div>\n",
       "<style scoped>\n",
       "    .dataframe tbody tr th:only-of-type {\n",
       "        vertical-align: middle;\n",
       "    }\n",
       "\n",
       "    .dataframe tbody tr th {\n",
       "        vertical-align: top;\n",
       "    }\n",
       "\n",
       "    .dataframe thead th {\n",
       "        text-align: right;\n",
       "    }\n",
       "</style>\n",
       "<table border=\"1\" class=\"dataframe\">\n",
       "  <thead>\n",
       "    <tr style=\"text-align: right;\">\n",
       "      <th></th>\n",
       "      <th>sequence</th>\n",
       "    </tr>\n",
       "  </thead>\n",
       "  <tbody>\n",
       "    <tr>\n",
       "      <th>0</th>\n",
       "      <td>TTGTAGATCTGTTCTCTAAACGAACTTTAAAATCTGTGTGGCTGTC...</td>\n",
       "    </tr>\n",
       "  </tbody>\n",
       "</table>\n",
       "</div>"
      ],
      "text/plain": [
       "                                            sequence\n",
       "0  TTGTAGATCTGTTCTCTAAACGAACTTTAAAATCTGTGTGGCTGTC..."
      ]
     },
     "execution_count": 8,
     "metadata": {},
     "output_type": "execute_result"
    }
   ],
   "source": [
    "df = pd.DataFrame([[virus_sequence]], columns=['sequence'])\n",
    "df.head()"
   ]
  },
  {
   "cell_type": "code",
   "execution_count": 9,
   "id": "9cbef352-62fd-4dca-a7f5-1acf5c9cd1ed",
   "metadata": {},
   "outputs": [],
   "source": [
    "virus_sentence = kmer_trans.transform(df)"
   ]
  },
  {
   "cell_type": "code",
   "execution_count": 10,
   "id": "054c5dd7-3763-42ca-bef3-fd67f021b2a1",
   "metadata": {},
   "outputs": [
    {
     "data": {
      "text/plain": [
       "0    TTGTAGA TGTAGAT GTAGATC TAGATCT AGATCTG GATCTG...\n",
       "Name: sequence, dtype: object"
      ]
     },
     "execution_count": 10,
     "metadata": {},
     "output_type": "execute_result"
    }
   ],
   "source": [
    "virus_sentence"
   ]
  },
  {
   "cell_type": "markdown",
   "id": "017634da-36f0-4ca4-b511-51499e22fe7c",
   "metadata": {},
   "source": [
    "#### Execute NLP model to extract 200-dim numerical vector (step 3)"
   ]
  },
  {
   "cell_type": "code",
   "execution_count": 11,
   "id": "36deac74-5089-4d84-b31a-b636dd5e0970",
   "metadata": {},
   "outputs": [
    {
     "name": "stderr",
     "output_type": "stream",
     "text": [
      "Warning : `load_model` does not return WordVectorModel or SupervisedModel any more, but a `FastText` object which is very similar.\n"
     ]
    }
   ],
   "source": [
    "nlp_model = fasttext.load_model('fasttext_unsupervised_kmer7_25k_samples.28.02.2022.bin')"
   ]
  },
  {
   "cell_type": "code",
   "execution_count": 12,
   "id": "be844e12-7bb6-4f4d-bdad-b60cfa5c5a70",
   "metadata": {},
   "outputs": [
    {
     "data": {
      "text/plain": [
       "(200,)"
      ]
     },
     "execution_count": 12,
     "metadata": {},
     "output_type": "execute_result"
    }
   ],
   "source": [
    "virus_vector = nlp_model.get_sentence_vector(virus_sentence.iloc[0])\n",
    "virus_vector.shape"
   ]
  },
  {
   "cell_type": "code",
   "execution_count": 13,
   "id": "cefce31c-194d-4e27-bdbb-2f1afc2d72dd",
   "metadata": {},
   "outputs": [
    {
     "data": {
      "text/plain": [
       "(1, 200)"
      ]
     },
     "execution_count": 13,
     "metadata": {},
     "output_type": "execute_result"
    }
   ],
   "source": [
    "# Vector reshaping\n",
    "virus_vector = virus_vector.reshape(1, -1)\n",
    "virus_vector.shape"
   ]
  },
  {
   "cell_type": "code",
   "execution_count": 14,
   "id": "95a2f1de-9882-4e0e-8cd2-095c6d6f0190",
   "metadata": {},
   "outputs": [
    {
     "data": {
      "text/plain": [
       "array([[ 0.00629183,  0.03516009, -0.0051704 , -0.01445506,  0.05645438,\n",
       "         0.06074398,  0.02379811, -0.01511069,  0.02883584,  0.01477559,\n",
       "        -0.05239385,  0.02924786, -0.00778445,  0.03246634, -0.00512506,\n",
       "         0.00505514,  0.00276198, -0.02956945,  0.05233557, -0.04806691,\n",
       "        -0.06677174,  0.00399255, -0.0475532 , -0.08454312,  0.02418624,\n",
       "         0.04419548,  0.01253094,  0.02593768, -0.007507  , -0.00216588,\n",
       "         0.0005841 , -0.03582927,  0.10901446,  0.00524319, -0.01559883,\n",
       "         0.00057139, -0.01283794,  0.03267699, -0.00717529,  0.03690799,\n",
       "        -0.05053783,  0.00597926, -0.0233377 , -0.01120885, -0.00446461,\n",
       "         0.08259936, -0.06927563, -0.0570327 , -0.00740768,  0.01789206,\n",
       "        -0.00453163,  0.01745039, -0.02976232, -0.00581325, -0.00492681,\n",
       "        -0.00397132, -0.03027195, -0.04675391, -0.04120129, -0.04190159,\n",
       "         0.05046935,  0.01874417, -0.01484625, -0.00105026, -0.0735895 ,\n",
       "        -0.02080752, -0.01627279,  0.02954617, -0.04003345,  0.01869872,\n",
       "         0.00117853, -0.04637571, -0.01605132,  0.01713558,  0.05967928,\n",
       "        -0.01502209, -0.04929513, -0.04462394,  0.06723536,  0.0936029 ,\n",
       "         0.01373941, -0.00115801,  0.00592418, -0.00081913, -0.0140535 ,\n",
       "        -0.01847973,  0.03310062,  0.03928387, -0.0033459 , -0.02092279,\n",
       "        -0.00214743, -0.00903915,  0.03487155,  0.00912294,  0.03118707,\n",
       "        -0.00040875, -0.02443895, -0.02324034,  0.0166891 ,  0.01349879,\n",
       "        -0.00912888,  0.02684494,  0.01429855,  0.02273976, -0.04144037,\n",
       "        -0.01520562, -0.02510863,  0.0146221 , -0.03536589, -0.01781027,\n",
       "        -0.03403408,  0.01044222,  0.0190562 , -0.01010964, -0.02781177,\n",
       "         0.00167517, -0.03646952,  0.00967229,  0.01545722,  0.0258715 ,\n",
       "        -0.00935476,  0.11784273, -0.00263847, -0.01519023,  0.01547802,\n",
       "        -0.00280626, -0.01584811,  0.02147977,  0.0113489 ,  0.04514243,\n",
       "        -0.05403799, -0.04366904,  0.02028453,  0.01298207,  0.0510541 ,\n",
       "         0.0055076 ,  0.02707975, -0.01885876,  0.00084178, -0.03989036,\n",
       "        -0.1081674 , -0.03130834,  0.01439715,  0.00331143, -0.00611824,\n",
       "         0.02994298, -0.02877431,  0.03233885,  0.01753123,  0.00748046,\n",
       "         0.01778063,  0.03629575,  0.01818227,  0.00579194,  0.04591775,\n",
       "        -0.0919491 , -0.00200518, -0.00713837,  0.00780872, -0.00039645,\n",
       "         0.0761008 ,  0.01201783,  0.02187546,  0.00169756, -0.01563302,\n",
       "        -0.03386649, -0.05029148,  0.03506872, -0.03777266, -0.03611854,\n",
       "        -0.00627699, -0.0377639 ,  0.01226823,  0.01489222,  0.0070151 ,\n",
       "        -0.0280783 , -0.006291  ,  0.00606535, -0.04046231, -0.01917129,\n",
       "         0.01321804, -0.01867382, -0.02689501, -0.00195802, -0.02876946,\n",
       "        -0.03035316,  0.01861931, -0.00071904, -0.05347667,  0.05461067,\n",
       "         0.02565263, -0.06596813,  0.00545558,  0.0674943 , -0.03336433,\n",
       "         0.02816069,  0.00267649,  0.03266693,  0.00179726, -0.04108575]],\n",
       "      dtype=float32)"
      ]
     },
     "execution_count": 14,
     "metadata": {},
     "output_type": "execute_result"
    }
   ],
   "source": [
    "virus_vector"
   ]
  },
  {
   "cell_type": "markdown",
   "id": "54bbe544-05a3-4bf9-8107-ee6dac736df3",
   "metadata": {},
   "source": [
    "#### Extract Machine Learning classification model to get the prediction results (step 4)"
   ]
  },
  {
   "cell_type": "code",
   "execution_count": 15,
   "id": "edabd175-ecad-470d-af95-c0cc08a894ae",
   "metadata": {},
   "outputs": [],
   "source": [
    "ml_model = joblib.load('svm_supervised_36k_samples.28.02.2022.joblib')"
   ]
  },
  {
   "cell_type": "code",
   "execution_count": 16,
   "id": "7f87a77f-6d37-47ab-8b3d-0804b4abf927",
   "metadata": {},
   "outputs": [],
   "source": [
    "lable_encoder = joblib.load('label_encoder_36k_samples.28.02.2022.joblib')"
   ]
  },
  {
   "cell_type": "code",
   "execution_count": 17,
   "id": "c0e1124a-6080-48c6-b475-9ddac5898bd3",
   "metadata": {},
   "outputs": [
    {
     "data": {
      "text/plain": [
       "'BA.2'"
      ]
     },
     "execution_count": 17,
     "metadata": {},
     "output_type": "execute_result"
    }
   ],
   "source": [
    "predicted_sarscov2_variant = lable_encoder.inverse_transform(ml_model.predict(virus_vector))[0]\n",
    "predicted_sarscov2_variant"
   ]
  },
  {
   "cell_type": "code",
   "execution_count": 18,
   "id": "c56efcb9-07b4-4735-8c7b-5159aa58c085",
   "metadata": {},
   "outputs": [
    {
     "data": {
      "text/plain": [
       "array([0.00000000e+00, 0.00000000e+00, 2.55102041e-05, 1.28794868e-03,\n",
       "       9.98686541e-01, 0.00000000e+00])"
      ]
     },
     "execution_count": 18,
     "metadata": {},
     "output_type": "execute_result"
    }
   ],
   "source": [
    "prediction_probabilities = ml_model.predict_proba(virus_vector)[0]\n",
    "prediction_probabilities"
   ]
  },
  {
   "cell_type": "code",
   "execution_count": 19,
   "id": "82e2c2fe-9845-4655-92b6-a21a00fc5bdd",
   "metadata": {},
   "outputs": [
    {
     "data": {
      "text/plain": [
       "'99.87% for BA.2 (sub)variant'"
      ]
     },
     "execution_count": 19,
     "metadata": {},
     "output_type": "execute_result"
    }
   ],
   "source": [
    "best_probability = round(max(prediction_probabilities) * 100, 2)\n",
    "f\"{best_probability}% for {predicted_sarscov2_variant} (sub)variant\""
   ]
  },
  {
   "cell_type": "code",
   "execution_count": null,
   "id": "c9173724-264c-4055-a302-3228ccb7c03b",
   "metadata": {},
   "outputs": [],
   "source": []
  }
 ],
 "metadata": {
  "kernelspec": {
   "display_name": "Python 3 (ipykernel)",
   "language": "python",
   "name": "python3"
  },
  "language_info": {
   "codemirror_mode": {
    "name": "ipython",
    "version": 3
   },
   "file_extension": ".py",
   "mimetype": "text/x-python",
   "name": "python",
   "nbconvert_exporter": "python",
   "pygments_lexer": "ipython3",
   "version": "3.8.10"
  }
 },
 "nbformat": 4,
 "nbformat_minor": 5
}
